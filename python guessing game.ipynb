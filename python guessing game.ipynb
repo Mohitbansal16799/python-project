{
 "cells": [
  {
   "cell_type": "code",
   "execution_count": 1,
   "id": "a23586db",
   "metadata": {},
   "outputs": [],
   "source": [
    "import random"
   ]
  },
  {
   "cell_type": "code",
   "execution_count": 3,
   "id": "091fbda1",
   "metadata": {},
   "outputs": [
    {
     "data": {
      "text/plain": [
       "30"
      ]
     },
     "execution_count": 3,
     "metadata": {},
     "output_type": "execute_result"
    }
   ],
   "source": [
    "random.randint(1,100)"
   ]
  },
  {
   "cell_type": "code",
   "execution_count": 8,
   "id": "870ac589",
   "metadata": {},
   "outputs": [
    {
     "name": "stdout",
     "output_type": "stream",
     "text": [
      "gues the no.50\n",
      "gues higher\n",
      "gues the no.55\n",
      "gues higher\n",
      "gues the no.60\n",
      "gues higher\n",
      "gues the no.80\n",
      "gues higher\n",
      "gues the no.90\n",
      "gues higher\n",
      "gues the no.95\n",
      "gues higher\n",
      "gues the no.99\n",
      "gues higher\n",
      "gues the no.100\n",
      "correct answer\n",
      " you take total 8 try to give correct answer\n"
     ]
    }
   ],
   "source": [
    "jackpot = random.randint(1,100)\n",
    "gues = int(input(\"gues the no.\"))\n",
    "counter = 1\n",
    "\n",
    "while gues != jackpot :\n",
    "    if gues < jackpot:\n",
    "        print(\"gues higher\")\n",
    "    else :\n",
    "        print(\"gues lower\")\n",
    "    gues = int(input(\"gues the no.\"))\n",
    "    counter = counter + 1\n",
    "    \n",
    "print(\"correct answer\")\n",
    "print (\" you take total\",counter,\"try to give correct answer\")\n"
   ]
  },
  {
   "cell_type": "code",
   "execution_count": null,
   "id": "2707d4b8",
   "metadata": {},
   "outputs": [],
   "source": []
  },
  {
   "cell_type": "code",
   "execution_count": null,
   "id": "f630dbb1",
   "metadata": {},
   "outputs": [],
   "source": []
  }
 ],
 "metadata": {
  "kernelspec": {
   "display_name": "Python 3 (ipykernel)",
   "language": "python",
   "name": "python3"
  },
  "language_info": {
   "codemirror_mode": {
    "name": "ipython",
    "version": 3
   },
   "file_extension": ".py",
   "mimetype": "text/x-python",
   "name": "python",
   "nbconvert_exporter": "python",
   "pygments_lexer": "ipython3",
   "version": "3.9.7"
  }
 },
 "nbformat": 4,
 "nbformat_minor": 5
}
